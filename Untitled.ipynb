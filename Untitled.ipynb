{
 "cells": [
  {
   "cell_type": "markdown",
   "metadata": {},
   "source": [
    "Float vs Decimal \n",
    "\n",
    "Floats are types that can be easily crunched with fair precision by \n",
    "both the cpu and gpu. Decimal on the other hand are only used in situations \n",
    "where the precision required is very, very high (example-> astronomical co-ordinates)\n",
    "\n",
    "When not dealing with such cases, the performance implications of the decimal \n",
    "class are something  to keep in mind \n",
    "\n",
    "    - not as easy to code: construction via strings or tuples\n",
    "    -not all mathematical functions that exist in the math module have a decimal counterpart \n",
    "    -more memory overhead \n",
    "    -performance: much slower than floats (relatively)"
   ]
  },
  {
   "cell_type": "code",
   "execution_count": null,
   "metadata": {},
   "outputs": [],
   "source": [
    "from decimal import Decimal \n",
    "import sys \n",
    "a= 3.1415\n",
    "b= Decimal('3.1415926536897932384626433')\n",
    "c= Decimal('3.1415926535897932384626433)"
   ]
  },
  {
   "cell_type": "code",
   "execution_count": 5,
   "metadata": {},
   "outputs": [
    {
     "data": {
      "text/plain": [
       "True"
      ]
     },
     "execution_count": 5,
     "metadata": {},
     "output_type": "execute_result"
    }
   ],
   "source": [
    "from decimal import Decimal \n",
    "b= Decimal('3.1415926535897932384624433')\n",
    "c= Decimal('3.1415926535897932384624433')\n",
    "b==c"
   ]
  },
  {
   "cell_type": "code",
   "execution_count": null,
   "metadata": {},
   "outputs": [],
   "source": []
  }
 ],
 "metadata": {
  "kernelspec": {
   "display_name": "Python 3",
   "language": "python",
   "name": "python3"
  },
  "language_info": {
   "codemirror_mode": {
    "name": "ipython",
    "version": 3
   },
   "file_extension": ".py",
   "mimetype": "text/x-python",
   "name": "python",
   "nbconvert_exporter": "python",
   "pygments_lexer": "ipython3",
   "version": "3.8.3"
  }
 },
 "nbformat": 4,
 "nbformat_minor": 4
}

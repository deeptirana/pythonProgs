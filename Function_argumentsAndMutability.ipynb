{
 "cells": [
  {
   "cell_type": "markdown",
   "metadata": {},
   "source": [
    "Object mutability "
   ]
  },
  {
   "cell_type": "code",
   "execution_count": 1,
   "metadata": {},
   "outputs": [
    {
     "name": "stdout",
     "output_type": "stream",
     "text": [
      "1656223761024\n",
      "1656223345216\n",
      "1656223174080\n",
      "1656223761024\n"
     ]
    }
   ],
   "source": [
    "t1= (1,2,3) \n",
    "print(id(t1))\n",
    "\n",
    "t= (3,4,5) \n",
    "print(id(t))\n",
    "\n",
    "t=t+t1\n",
    " \n",
    "print(id(t))\n",
    " \n",
    "print(id(t1))\n",
    "\n"
   ]
  },
  {
   "cell_type": "code",
   "execution_count": 2,
   "metadata": {},
   "outputs": [],
   "source": [
    "import ctypes "
   ]
  },
  {
   "cell_type": "code",
   "execution_count": 3,
   "metadata": {},
   "outputs": [
    {
     "data": {
      "text/plain": [
       "(1, 2, 3)"
      ]
     },
     "execution_count": 3,
     "metadata": {},
     "output_type": "execute_result"
    }
   ],
   "source": [
    "ctypes.cast(1656223761024, ctypes.py_object).value"
   ]
  },
  {
   "cell_type": "code",
   "execution_count": 5,
   "metadata": {},
   "outputs": [
    {
     "data": {
      "text/plain": [
       "(4,\n",
       " 'ctypes.cast(1656223345216, ctypes.py_object).value',\n",
       " 'ctypes.cast(1656223345216, ctypes.py_object).value')"
      ]
     },
     "execution_count": 5,
     "metadata": {},
     "output_type": "execute_result"
    }
   ],
   "source": [
    "ctypes.cast(1656223345216, ctypes.py_object).value"
   ]
  },
  {
   "cell_type": "code",
   "execution_count": 6,
   "metadata": {},
   "outputs": [
    {
     "data": {
      "text/plain": [
       "(3, 4, 5, 1, 2, 3)"
      ]
     },
     "execution_count": 6,
     "metadata": {},
     "output_type": "execute_result"
    }
   ],
   "source": [
    "ctypes.cast(1656223174080, ctypes.py_object).value"
   ]
  },
  {
   "cell_type": "markdown",
   "metadata": {},
   "source": [
    "In the above experiments, we see that when concatinating to a tuple as a resignment to itself, \n",
    "the resultant tuple is assigned a new memory block, particularly, we see that although \n",
    "t1 retained its memory adress, t (which was infact changed to the concatenation t+t1)\n",
    "was assigned a new memory address"
   ]
  },
  {
   "cell_type": "markdown",
   "metadata": {},
   "source": [
    "In addition, a tuple can contain mutable objects, \n",
    "for instance, say tuple1= (list1, list2)\n",
    "\n",
    "in such case, \"Tuple's internal content's state (if they are mutable) and not tuple itself is modfiable\"\n",
    "(an entity is said to be mutable when it is volatile to mutation of state)\n",
    "as <u>data</u> is a state of a variable, mutable object inside of a tuple1 that points to another \n",
    "memory address might be changed as it is open to such reassignment, truncation or addition."
   ]
  },
  {
   "cell_type": "markdown",
   "metadata": {},
   "source": []
  }
 ],
 "metadata": {
  "kernelspec": {
   "display_name": "Python 3",
   "language": "python",
   "name": "python3"
  },
  "language_info": {
   "codemirror_mode": {
    "name": "ipython",
    "version": 3
   },
   "file_extension": ".py",
   "mimetype": "text/x-python",
   "name": "python",
   "nbconvert_exporter": "python",
   "pygments_lexer": "ipython3",
   "version": "3.8.3"
  }
 },
 "nbformat": 4,
 "nbformat_minor": 4
}

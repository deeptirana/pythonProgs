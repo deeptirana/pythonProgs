{
 "cells": [
  {
   "cell_type": "markdown",
   "metadata": {},
   "source": [
    "<h3>Shared Reference</h3> \n",
    "<br>\n",
    "to copy reference ->\n",
    "<br>\n",
    "a=10\n",
    "b=a #---------------> copies reference of mem_addr from a to b\n",
    "<br>\n",
    "import copy \n",
    "<br>\n",
    "a=10\n",
    "<br>\n",
    "b= copy.copy(a) #------------------> copies actual state(data) to mem_add(b)"
   ]
  },
  {
   "cell_type": "code",
   "execution_count": 1,
   "metadata": {},
   "outputs": [
    {
     "name": "stdout",
     "output_type": "stream",
     "text": [
      "my name is xyz  with mem_addr:  2719212442800\n",
      "HI  with mem_addr:  2719212442928\n"
     ]
    }
   ],
   "source": [
    "#strings are immutable\n",
    "def func_saysHi(some_string):\n",
    "    print(some_string,\" with mem_addr: \" , id(some_string))\n",
    "    some_string= 'HI'\n",
    "    print(some_string,\" with mem_addr: \" , id(some_string))\n",
    "func_saysHi('my name is xyz')"
   ]
  },
  {
   "cell_type": "code",
   "execution_count": 2,
   "metadata": {},
   "outputs": [
    {
     "name": "stdout",
     "output_type": "stream",
     "text": [
      "[10, 20, 30, 40]  with mem_addr:  2719214047040\n",
      "[10, 20, 30, 40, 100]  with mem_addr:  2719214047040\n"
     ]
    }
   ],
   "source": [
    "#list are mutable\n",
    "def modifies_list(some_list):\n",
    "    print(some_list,\" with mem_addr: \" , id(some_list))\n",
    "    some_list.append(100)\n",
    "    print(some_list,\" with mem_addr: \" , id(some_list))\n",
    "l1= [10,20,30,40]\n",
    "modifies_list(l1)"
   ]
  },
  {
   "cell_type": "markdown",
   "metadata": {},
   "source": [
    "Tuple themselves are immutable, but their contents are mutable"
   ]
  },
  {
   "cell_type": "code",
   "execution_count": 3,
   "metadata": {},
   "outputs": [
    {
     "name": "stdout",
     "output_type": "stream",
     "text": [
      "2719213980288\n",
      "2719213980288\n",
      "2719213980288 l2's id in t1\n",
      "2719213980288 l2's id outside\n",
      "2719220471104 t1's id\n"
     ]
    }
   ],
   "source": [
    "l2= [3,4,5,6]\n",
    "print(id(l2))\n",
    "t1= ('char', 'money', 3, l1, l2)\n",
    "print(id(t1[4]))\n",
    "t1[4].append(100)\n",
    "print(id(t1[4]), \"l2's id in t1\")\n",
    "print(id(l2), \"l2's id outside\")\n",
    "print(id(t1), \"t1's id\")"
   ]
  },
  {
   "cell_type": "markdown",
   "metadata": {},
   "source": [
    "<h1>Variable Equality</h1>"
   ]
  },
  {
   "cell_type": "markdown",
   "metadata": {},
   "source": [
    "We can think of variable equality in two funcdamental ways:\n",
    "\n",
    "->Memory address 'is' \n",
    "Negation \n",
    "-> is not \n",
    "-> not(val1 is val 2)\n",
    "<br>\n",
    "<br>\n",
    "->object state(data) '=='\n",
    "-> != \n",
    "\n",
    "\n",
    "\n"
   ]
  },
  {
   "cell_type": "code",
   "execution_count": null,
   "metadata": {},
   "outputs": [],
   "source": []
  }
 ],
 "metadata": {
  "kernelspec": {
   "display_name": "Python 3",
   "language": "python",
   "name": "python3"
  },
  "language_info": {
   "codemirror_mode": {
    "name": "ipython",
    "version": 3
   },
   "file_extension": ".py",
   "mimetype": "text/x-python",
   "name": "python",
   "nbconvert_exporter": "python",
   "pygments_lexer": "ipython3",
   "version": "3.8.3"
  }
 },
 "nbformat": 4,
 "nbformat_minor": 4
}

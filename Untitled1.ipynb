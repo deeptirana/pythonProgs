{
 "cells": [
  {
   "cell_type": "markdown",
   "metadata": {},
   "source": [
    "<p>\n",
    "Four main types of numbers:\n",
    "<br>\n",
    "Boolean truth value-> 0(false), 1(true)\n",
    "    <br>\n",
    "int -> +-(1,2,3,4,....)  -> int\n",
    "    <br>\n",
    "rational numbers-> p/q form p->z, q!= 0, -> fractions.Fraction\n",
    "    <br>\n",
    "Real Numbers (R)-> 0,-1,0.125, 1/3,pi floats, -> decimal.Decimal\n",
    "    <br>\n",
    "complex numbers(c)-> {a+bi|a,b belong to R} -> complex\n",
    "    <br>\n",
    "</p>"
   ]
  },
  {
   "cell_type": "code",
   "execution_count": null,
   "metadata": {},
   "outputs": [],
   "source": []
  }
 ],
 "metadata": {
  "kernelspec": {
   "display_name": "Python 3",
   "language": "python",
   "name": "python3"
  },
  "language_info": {
   "codemirror_mode": {
    "name": "ipython",
    "version": 3
   },
   "file_extension": ".py",
   "mimetype": "text/x-python",
   "name": "python",
   "nbconvert_exporter": "python",
   "pygments_lexer": "ipython3",
   "version": "3.8.3"
  }
 },
 "nbformat": 4,
 "nbformat_minor": 4
}

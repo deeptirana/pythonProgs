{
 "cells": [
  {
   "cell_type": "markdown",
   "metadata": {},
   "source": [
    "Integer Operations "
   ]
  },
  {
   "cell_type": "markdown",
   "metadata": {},
   "source": [
    "the operations of modulus(%) and divident -div (//) work differently for negatively and positively signed integers in order to always maintain the relationship expressed by the equation \n",
    "\n",
    "<b>n= n*(a//b)+ (a%b)</b>\n",
    "<br>\n",
    "where n is the number \n",
    "\n",
    "    15/4-> 4| 15 |3 \n",
    "              12\n",
    "              __\n",
    "               3 __________________________> yields the result on the above equation as \n",
    "                                             15= 4*(15//4)+ (15%3)\n",
    "                                             --> 4*3+3= 15\n",
    "                                          "
   ]
  },
  {
   "cell_type": "code",
   "execution_count": 1,
   "metadata": {},
   "outputs": [],
   "source": [
    "import math "
   ]
  },
  {
   "cell_type": "code",
   "execution_count": 2,
   "metadata": {},
   "outputs": [
    {
     "data": {
      "text/plain": [
       "-32"
      ]
     },
     "execution_count": 2,
     "metadata": {},
     "output_type": "execute_result"
    }
   ],
   "source": [
    "math.floor(-31.14)"
   ]
  },
  {
   "cell_type": "markdown",
   "metadata": {},
   "source": [
    "such a result was returned because the floor operation (lit. Divident operation) only returnsn the \n",
    "largest number which is smaller than the given number. in this case -32 which precedes -31.14 on the number line is displayed as a result "
   ]
  },
  {
   "cell_type": "markdown",
   "metadata": {},
   "source": [
    "the divident operation is not the same as the math.truncate operation as with the latter, we \n",
    "are only rmeoving the succeeding digits after the signed first digit"
   ]
  },
  {
   "cell_type": "code",
   "execution_count": 3,
   "metadata": {},
   "outputs": [
    {
     "data": {
      "text/plain": [
       "-3"
      ]
     },
     "execution_count": 3,
     "metadata": {},
     "output_type": "execute_result"
    }
   ],
   "source": [
    "math.trunc(-3.1415926535897946323824433)"
   ]
  },
  {
   "cell_type": "code",
   "execution_count": 5,
   "metadata": {},
   "outputs": [
    {
     "name": "stdout",
     "output_type": "stream",
     "text": [
      "14 / 15 = 0.9333333333333333\n",
      "14 // 15 = 0\n",
      "14 % 15 = 14\n"
     ]
    }
   ],
   "source": [
    "a=14\n",
    "b=15\n",
    "print(\"{0} / {1} = {2}\".format(a,b,a/b))\n",
    "print(\"{0} // {1} = {2}\".format(a,b,a//b))\n",
    "print(\"{0} % {1} = {2}\".format(a,b,a%b))"
   ]
  },
  {
   "cell_type": "code",
   "execution_count": 6,
   "metadata": {},
   "outputs": [
    {
     "name": "stdout",
     "output_type": "stream",
     "text": [
      "-14 / 15 = -0.9333333333333333\n",
      "-14 // 15 = -1\n",
      "-14 % 15 = 1\n"
     ]
    }
   ],
   "source": [
    "a=-14\n",
    "b=15\n",
    "print(\"{0} / {1} = {2}\".format(a,b,a/b))\n",
    "print(\"{0} // {1} = {2}\".format(a,b,a//b))\n",
    "print(\"{0} % {1} = {2}\".format(a,b,a%b))"
   ]
  },
  {
   "cell_type": "code",
   "execution_count": 7,
   "metadata": {},
   "outputs": [
    {
     "name": "stdout",
     "output_type": "stream",
     "text": [
      "14 / -15 = -0.9333333333333333\n",
      "14 // -15 = -1\n",
      "14 % -15 = -1\n"
     ]
    }
   ],
   "source": [
    "a=14\n",
    "b=-15\n",
    "print(\"{0} / {1} = {2}\".format(a,b,a/b))\n",
    "print(\"{0} // {1} = {2}\".format(a,b,a//b))\n",
    "print(\"{0} % {1} = {2}\".format(a,b,a%b))"
   ]
  },
  {
   "cell_type": "code",
   "execution_count": null,
   "metadata": {},
   "outputs": [],
   "source": []
  }
 ],
 "metadata": {
  "kernelspec": {
   "display_name": "Python 3",
   "language": "python",
   "name": "python3"
  },
  "language_info": {
   "codemirror_mode": {
    "name": "ipython",
    "version": 3
   },
   "file_extension": ".py",
   "mimetype": "text/x-python",
   "name": "python",
   "nbconvert_exporter": "python",
   "pygments_lexer": "ipython3",
   "version": "3.8.3"
  }
 },
 "nbformat": 4,
 "nbformat_minor": 4
}

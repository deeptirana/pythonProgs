{
 "cells": [
  {
   "cell_type": "markdown",
   "metadata": {},
   "source": [
    "<h1>Deep Dive <b>Variables And Memory</h1>"
   ]
  },
  {
   "cell_type": "markdown",
   "metadata": {},
   "source": [
    "The term shared reference is the concept of two variables referrencing \n",
    "the same object in memory(i.e. having the same memory address)\n",
    "\n",
    "For instance -> a=10 <-> b=a does not copy value but copies memory address \n",
    "(reference)"
   ]
  },
  {
   "cell_type": "markdown",
   "metadata": {},
   "source": [
    "Infact, when if we assign two or more variables the same value, say,\n",
    "a=10 and b=10 and c=10 then all of a,b,c reference the same mem_addrss"
   ]
  },
  {
   "cell_type": "code",
   "execution_count": 11,
   "metadata": {},
   "outputs": [
    {
     "name": "stdout",
     "output_type": "stream",
     "text": [
      "The value of a 140704525203520, b 140704525203520, c 140704525203520\n"
     ]
    }
   ],
   "source": [
    "a= 10\n",
    "b=10\n",
    "c=10\n",
    "print(f\"The value of a {id(a)}, b {id(b)}, c {id(c)}\")"
   ]
  },
  {
   "cell_type": "markdown",
   "metadata": {},
   "source": [
    "such is the case with variables, however with mutable objects, such as a list \n",
    "python memory manger will never create shared referneces \n",
    "a= [1,2,3]\n",
    "b= [1,2,3]"
   ]
  },
  {
   "cell_type": "code",
   "execution_count": 20,
   "metadata": {},
   "outputs": [
    {
     "name": "stdout",
     "output_type": "stream",
     "text": [
      "--------------\n",
      "3049808652352 3049799142208\n",
      "--------------\n",
      "3049792752576 3049808663040\n"
     ]
    }
   ],
   "source": [
    "c= [1,2,3] \n",
    "d= [1,2,3]\n",
    "print(\"--------------\")\n",
    "print(id(c), id(d))\n",
    "print(\"--------------\")\n",
    "d1= [3,4,5]\n",
    "d2= [3,4,5]\n",
    "print(id(d1), id(d2))"
   ]
  },
  {
   "cell_type": "markdown",
   "metadata": {},
   "source": [
    "However, When we change anything in either of the variables, then said variable gets allocated a new memory address that pertains to the data that it has specifically. "
   ]
  },
  {
   "cell_type": "code",
   "execution_count": 1,
   "metadata": {},
   "outputs": [
    {
     "data": {
      "text/plain": [
       "(2991486821104, 2991486821136)"
      ]
     },
     "execution_count": 1,
     "metadata": {},
     "output_type": "execute_result"
    }
   ],
   "source": [
    "var1_a= 300\n",
    "var2_a= 300\n",
    "var1_a\n",
    "var2_a\n",
    "id(var1_a), id(var2_a)"
   ]
  },
  {
   "cell_type": "code",
   "execution_count": null,
   "metadata": {},
   "outputs": [],
   "source": []
  }
 ],
 "metadata": {
  "kernelspec": {
   "display_name": "Python 3",
   "language": "python",
   "name": "python3"
  },
  "language_info": {
   "codemirror_mode": {
    "name": "ipython",
    "version": 3
   },
   "file_extension": ".py",
   "mimetype": "text/x-python",
   "name": "python",
   "nbconvert_exporter": "python",
   "pygments_lexer": "ipython3",
   "version": "3.8.3"
  }
 },
 "nbformat": 4,
 "nbformat_minor": 4
}

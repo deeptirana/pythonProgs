{
 "cells": [
  {
   "cell_type": "markdown",
   "metadata": {},
   "source": [
    "<h1>Memory references </h1>\n",
    "    <li>what variables are \n",
    "    <li>Mem Management\n",
    "    <li>Reference Counting \n",
    "    <li>Garbage Collector\n",
    "    <li>Dynamic vs Static Typing \n",
    "    <li>Mutability and Immutability\n",
    "    <li>Variable equality\n",
    "    <li>Everything is an object"
   ]
  },
  {
   "cell_type": "markdown",
   "metadata": {},
   "source": [
    "<h4> VARIABLES AND MEMORY REFERENCES <h4>\n",
    "<table row= 3, col=3>\n",
    "    <tr>Memory\n",
    "    <td>Address1</td>      \n",
    "    </tr>\n",
    "    <tr>\n",
    "    <td>Address2</td>\n",
    "    </tr>\n",
    "    <tr>\n",
    "    <td>Address3</td>\n",
    "    </tr>\n",
    "   </table>"
   ]
  },
  {
   "cell_type": "markdown",
   "metadata": {},
   "source": [
    "In python, everything is stored as a reference to an object stored \n",
    "in Memory"
   ]
  },
  {
   "cell_type": "code",
   "execution_count": 2,
   "metadata": {},
   "outputs": [
    {
     "name": "stdout",
     "output_type": "stream",
     "text": [
      "2796688037488\n"
     ]
    },
    {
     "data": {
      "text/plain": [
       "(2796651791296, 2796698707392)"
      ]
     },
     "execution_count": 2,
     "metadata": {},
     "output_type": "execute_result"
    }
   ],
   "source": [
    "def func_my(a,b):\n",
    "    return(a,b)\n",
    "print(id(func_my))\n",
    "a= func_my(10,20)\n",
    "b=func_my(\"no\",\"hello?\")\n",
    "id(a), id(b)"
   ]
  },
  {
   "cell_type": "markdown",
   "metadata": {},
   "source": [
    "<i>*-> Python returns a base 10 number with id() function, </i>"
   ]
  },
  {
   "cell_type": "markdown",
   "metadata": {},
   "source": [
    "Reference Counter:\n",
    "As noted earlier, python stores var->value mapping in memory as objects \n",
    "bounded in heap memory, In other words, such variables references the \n",
    "designated memory address and therefore the value stored in them. \n",
    "To facilitate such mapping, python's memory manager stores internally, a \n",
    "count of the number of items an object is referrenced/used in a program\n",
    "\n",
    "Initial state of refernce (object is thriving in memory)\n",
    "<table row= 3, col=3>\n",
    "    <tr>Instances of value referenced\n",
    "    <td>count 1</td>      \n",
    "    </tr>\n",
    "    <tr>\n",
    "    <td>count 2</td>\n",
    "    </tr>\n",
    "    <tr>\n",
    "    <td>count 3</td>\n",
    "    </tr>\n",
    "   </table>\n",
    "   \n",
    "2nd state of reference (object Loses 1 refernce)\n",
    "<table row= 3, col=3>\n",
    "    <tr>Instances of value referenced\n",
    "    <td>deleted</td>      \n",
    "    </tr>\n",
    "    <tr>\n",
    "    <td>count 2</td>\n",
    "    </tr>\n",
    "    <tr>\n",
    "    <td>count 3</td>\n",
    "    </tr>\n",
    "   </table>\n",
    " \n",
    " unary state (object only has 1 reference left)\n",
    " <table row= 3, col=3>\n",
    "    <tr>Instances of value referenced\n",
    "    <td>deleted</td>      \n",
    "    </tr>\n",
    "    <tr>\n",
    "    <td>deleted</td>\n",
    "    </tr>\n",
    "    <tr>\n",
    "    <td>count 3</td>\n",
    "    </tr>\n",
    "   </table>\n",
    "   \n",
    "   -> next pass, object has no reference, hence gets deleted by PMM\n",
    "   "
   ]
  },
  {
   "cell_type": "markdown",
   "metadata": {},
   "source": [
    "To get the reference count of an object referenced, we can use <br>\n",
    "   <font color= red>sys.getrefcount(my_var)</font> <- command\n",
    "   \n",
    "   which has the disadvantage that in trying to get the number of reference \n",
    "   calls that have been made to an object, it itself in calling the object\n",
    "   , adds a call to the existing tally\n",
    "   \n",
    " To counter this, we use the <br>\n",
    " <font color='lightblue'>ctypes.c_long.from_address(<font color='green'>\n",
    "    address</font>).value</font>"
   ]
  },
  {
   "cell_type": "code",
   "execution_count": 12,
   "metadata": {},
   "outputs": [
    {
     "data": {
      "text/plain": [
       "2"
      ]
     },
     "execution_count": 12,
     "metadata": {},
     "output_type": "execute_result"
    }
   ],
   "source": [
    "import sys\n",
    "import ctypes\n",
    "new_list1= [1, 2, 3]\n",
    "id(new_list1)\n",
    "sys.getrefcount(new_list1)"
   ]
  },
  {
   "cell_type": "code",
   "execution_count": 2,
   "metadata": {},
   "outputs": [],
   "source": [
    "def ref_count(address: int):\n",
    "    return ctypes.c_long.from_address(address).value"
   ]
  },
  {
   "cell_type": "code",
   "execution_count": 13,
   "metadata": {},
   "outputs": [
    {
     "data": {
      "text/plain": [
       "1"
      ]
     },
     "execution_count": 13,
     "metadata": {},
     "output_type": "execute_result"
    }
   ],
   "source": [
    "ref_count(id(new_list1))"
   ]
  },
  {
   "cell_type": "markdown",
   "metadata": {},
   "source": [
    "<p>Interesting thing to note here is that we have clearly invoked \n",
    "the sys.getrefcount()<br> function to add one extra draw call to the \n",
    "new_list1, however such transaction is not<br> reflected in ref_count's \n",
    "return, this is due to the fact that <i> once sys.getrefcount() \n",
    "has <br> finished processing the instance of reference, it then throws \n",
    "away its <br> pointer/reference to the memory address an in by doing so, \n",
    "returning the <br>\n",
    "    \"number of references\" to its original value of 1</p>"
   ]
  },
  {
   "cell_type": "code",
   "execution_count": null,
   "metadata": {},
   "outputs": [],
   "source": [
    "hen_var= 456\n",
    "ref_hen_var= hen_var\n",
    "hen_var= None\n",
    "ref_hen_var\n",
    "print(id(ref_hen_var))\n",
    "ref_count(ref_hen_var)\n",
    "ref_count(ref_hen_var)"
   ]
  },
  {
   "cell_type": "markdown",
   "metadata": {},
   "source": [
    "Once the original hen_var is deleted, the reference in memory is cleaned \n",
    " up aswell, the referencing object ref_hen_val thus prints \n",
    " the \n",
    " \n",
    " As it is dangeri"
   ]
  }
 ],
 "metadata": {
  "kernelspec": {
   "display_name": "Python 3",
   "language": "python",
   "name": "python3"
  },
  "language_info": {
   "codemirror_mode": {
    "name": "ipython",
    "version": 3
   },
   "file_extension": ".py",
   "mimetype": "text/x-python",
   "name": "python",
   "nbconvert_exporter": "python",
   "pygments_lexer": "ipython3",
   "version": "3.8.3"
  }
 },
 "nbformat": 4,
 "nbformat_minor": 4
}

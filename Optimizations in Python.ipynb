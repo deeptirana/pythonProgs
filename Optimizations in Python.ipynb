{
 "cells": [
  {
   "cell_type": "markdown",
   "metadata": {},
   "source": [
    "Python optimization \n",
    "\n",
    "replace with precalculations \n",
    "-> given a recurring call to the same expression, python \n",
    "instead of re-calculating it, replaces the redundant expression with \n",
    "the original value \n",
    "\n",
    "a= 64*40= 2460 #---stores 2460 at 0xFFDD\n",
    "b= 64*40---> replaces with call at 0xFFDD as above instead of recalculation\n",
    "\n",
    "\n",
    "same applies to short sequences <20\n",
    "so if \n",
    "(1,2) * 5 ->(1,2,1,2,1,2,1,2,1,2)\n",
    "'abc'*3-> abcabcabc\n",
    "'hello' + 'world'--> stored\n",
    "'the quick brown fox jumps' *3 -> not precalculated as >20\n",
    "\n",
    " "
   ]
  },
  {
   "cell_type": "markdown",
   "metadata": {},
   "source": [
    "Membership tests-> \n",
    "mutables types are replaced by immutable \n",
    "\n",
    "for membership test such as -> \n",
    "    if e in [1,2,3]:\n",
    "    evaluate to constant expression (which it does in this case as all of 1,2,3 are \n",
    "    constants, would've not been the case if that wasn't true) then python replaces \n",
    "    that by \n",
    "    \n",
    "    if e in (1,2,3) -> tuple counter part \n",
    "    \n",
    "    similar conversions, \n",
    "    > list-> tuples \n",
    "    > sets-> frozensets \n",
    "    \n",
    "    Set membership is much faster than list or tuple membership \n",
    "    \n",
    "    so mostly, unless dealing with variables we should instead write \n",
    "    if e in {1,2,3}: # using sets "
   ]
  },
  {
   "cell_type": "code",
   "execution_count": 2,
   "metadata": {},
   "outputs": [],
   "source": [
    "def my_func():\n",
    "    a= 24*60\n",
    "    b= (1,2)* 5\n",
    "    c=  'abc'* 3\n",
    "    d= 'ab' *11\n",
    "    e= 'the quick brown' *5\n",
    "    f= ['a', 'b']*3 "
   ]
  },
  {
   "cell_type": "code",
   "execution_count": 3,
   "metadata": {},
   "outputs": [
    {
     "data": {
      "text/plain": [
       "(None,\n",
       " 1440,\n",
       " (1, 2, 1, 2, 1, 2, 1, 2, 1, 2),\n",
       " 'abcabcabc',\n",
       " 'ababababababababababab',\n",
       " 'the quick brownthe quick brownthe quick brownthe quick brownthe quick brown',\n",
       " 'a',\n",
       " 'b',\n",
       " 3)"
      ]
     },
     "execution_count": 3,
     "metadata": {},
     "output_type": "execute_result"
    }
   ],
   "source": [
    "my_func.__code__.co_consts"
   ]
  },
  {
   "cell_type": "markdown",
   "metadata": {},
   "source": [
    "in the above snippet which was fetched from code constants function in \n",
    "the code module, we see that python has cleverly already calculated \n",
    "the expressions such as 1440 et cetera."
   ]
  },
  {
   "cell_type": "markdown",
   "metadata": {},
   "source": [
    "similar to this, we have \n",
    "\n",
    "    def my_func(e):\n",
    "        if e in [1,2,3]:\n",
    "            pass"
   ]
  },
  {
   "cell_type": "markdown",
   "metadata": {},
   "source": [
    "the above code will be replaced by a static lookup that can be easily reused"
   ]
  },
  {
   "cell_type": "code",
   "execution_count": 4,
   "metadata": {},
   "outputs": [],
   "source": [
    "def my_func(e):\n",
    "    if e in [1,2,3]:\n",
    "        pass"
   ]
  },
  {
   "cell_type": "code",
   "execution_count": 5,
   "metadata": {},
   "outputs": [
    {
     "data": {
      "text/plain": [
       "(None, (1, 2, 3))"
      ]
     },
     "execution_count": 5,
     "metadata": {},
     "output_type": "execute_result"
    }
   ],
   "source": [
    "my_func.__code__.co_consts"
   ]
  },
  {
   "cell_type": "markdown",
   "metadata": {},
   "source": [
    "we see python actually stores the list as a tuple correspendence \n",
    "as doing so allows to immutability safety. "
   ]
  },
  {
   "cell_type": "markdown",
   "metadata": {},
   "source": [
    "using sets is much more efficient than using a list or tuple because \n",
    "both list and tuple need to traverse through the entire object in order \n",
    "to process an instruction however, \n",
    "\n",
    "a hashmap based structure such as set can perform this several times faster."
   ]
  },
  {
   "cell_type": "code",
   "execution_count": 8,
   "metadata": {},
   "outputs": [],
   "source": [
    "import time, string\n",
    "def membership_test(n, container):\n",
    "    for i in range(n):\n",
    "        if 'z' in container:\n",
    "            pass"
   ]
  },
  {
   "cell_type": "code",
   "execution_count": 9,
   "metadata": {},
   "outputs": [
    {
     "data": {
      "text/plain": [
       "'abcdefghijklmnopqrstuvwxyzABCDEFGHIJKLMNOPQRSTUVWXYZ'"
      ]
     },
     "execution_count": 9,
     "metadata": {},
     "output_type": "execute_result"
    }
   ],
   "source": [
    "string.ascii_letters"
   ]
  },
  {
   "cell_type": "code",
   "execution_count": 10,
   "metadata": {},
   "outputs": [],
   "source": [
    "char_list= list(string.ascii_letters)\n",
    "char_tuple= tuple(string.ascii_letters)\n",
    "char_set= set(string.ascii_letters)"
   ]
  },
  {
   "cell_type": "code",
   "execution_count": 13,
   "metadata": {},
   "outputs": [
    {
     "name": "stdout",
     "output_type": "stream",
     "text": [
      "['a', 'b', 'c', 'd', 'e', 'f', 'g', 'h', 'i', 'j', 'k', 'l', 'm', 'n', 'o', 'p', 'q', 'r', 's', 't', 'u', 'v', 'w', 'x', 'y', 'z', 'A', 'B', 'C', 'D', 'E', 'F', 'G', 'H', 'I', 'J', 'K', 'L', 'M', 'N', 'O', 'P', 'Q', 'R', 'S', 'T', 'U', 'V', 'W', 'X', 'Y', 'Z'] \t\n",
      " ['a', 'b', 'c', 'd', 'e', 'f', 'g', 'h', 'i', 'j', 'k', 'l', 'm', 'n', 'o', 'p', 'q', 'r', 's', 't', 'u', 'v', 'w', 'x', 'y', 'z', 'A', 'B', 'C', 'D', 'E', 'F', 'G', 'H', 'I', 'J', 'K', 'L', 'M', 'N', 'O', 'P', 'Q', 'R', 'S', 'T', 'U', 'V', 'W', 'X', 'Y', 'Z'] \t\n",
      " ('a', 'b', 'c', 'd', 'e', 'f', 'g', 'h', 'i', 'j', 'k', 'l', 'm', 'n', 'o', 'p', 'q', 'r', 's', 't', 'u', 'v', 'w', 'x', 'y', 'z', 'A', 'B', 'C', 'D', 'E', 'F', 'G', 'H', 'I', 'J', 'K', 'L', 'M', 'N', 'O', 'P', 'Q', 'R', 'S', 'T', 'U', 'V', 'W', 'X', 'Y', 'Z')\n"
     ]
    }
   ],
   "source": [
    "print(char_list,\"\\t\\n\", char_list, \"\\t\\n\", char_tuple)"
   ]
  },
  {
   "cell_type": "code",
   "execution_count": 15,
   "metadata": {},
   "outputs": [
    {
     "name": "stdout",
     "output_type": "stream",
     "text": [
      " it takes -40.41606290000027\n"
     ]
    }
   ],
   "source": [
    "start= time.perf_counter()\n",
    "membership_test(100000000,char_list)\n",
    "end= time.perf_counter()\n",
    "print(\" it takes\", start-end)"
   ]
  },
  {
   "cell_type": "code",
   "execution_count": 16,
   "metadata": {},
   "outputs": [
    {
     "name": "stdout",
     "output_type": "stream",
     "text": [
      " it takes -41.72024049999982\n"
     ]
    }
   ],
   "source": [
    "start= time.perf_counter()\n",
    "membership_test(100000000,char_tuple)\n",
    "end= time.perf_counter()\n",
    "print(\" it takes\", start-end)"
   ]
  },
  {
   "cell_type": "markdown",
   "metadata": {},
   "source": [
    "so they both take roughly the same amount of time for traversing 10mil elements"
   ]
  },
  {
   "cell_type": "code",
   "execution_count": 17,
   "metadata": {},
   "outputs": [
    {
     "name": "stdout",
     "output_type": "stream",
     "text": [
      " it takes -4.587058999999954\n"
     ]
    }
   ],
   "source": [
    "start= time.perf_counter()\n",
    "membership_test(100000000,char_set)\n",
    "end= time.perf_counter()\n",
    "print(\" it takes\", start-end)"
   ]
  },
  {
   "cell_type": "markdown",
   "metadata": {},
   "source": [
    "we see that a set takes a blazingly fast approach and returns at 4 seconds"
   ]
  }
 ],
 "metadata": {
  "kernelspec": {
   "display_name": "Python 3",
   "language": "python",
   "name": "python3"
  },
  "language_info": {
   "codemirror_mode": {
    "name": "ipython",
    "version": 3
   },
   "file_extension": ".py",
   "mimetype": "text/x-python",
   "name": "python",
   "nbconvert_exporter": "python",
   "pygments_lexer": "ipython3",
   "version": "3.8.3"
  }
 },
 "nbformat": 4,
 "nbformat_minor": 4
}

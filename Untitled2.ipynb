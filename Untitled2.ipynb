{
 "cells": [
  {
   "cell_type": "markdown",
   "metadata": {},
   "source": [
    "Integer object in python is an instance of the integer class \n",
    "<br>int class provides multiple constructors "
   ]
  },
  {
   "cell_type": "code",
   "execution_count": 1,
   "metadata": {},
   "outputs": [],
   "source": [
    "a= int(10)\n",
    "b= int(-34)"
   ]
  },
  {
   "cell_type": "code",
   "execution_count": 2,
   "metadata": {},
   "outputs": [],
   "source": [
    "import decimal "
   ]
  },
  {
   "cell_type": "code",
   "execution_count": 4,
   "metadata": {},
   "outputs": [],
   "source": [
    "a= decimal.Decimal(\"10.9\")"
   ]
  },
  {
   "cell_type": "code",
   "execution_count": 5,
   "metadata": {},
   "outputs": [
    {
     "name": "stdout",
     "output_type": "stream",
     "text": [
      "10.9\n"
     ]
    }
   ],
   "source": [
    "print(a)"
   ]
  },
  {
   "cell_type": "markdown",
   "metadata": {},
   "source": [
    "We know that we cannot convert strings to int"
   ]
  },
  {
   "cell_type": "code",
   "execution_count": 6,
   "metadata": {},
   "outputs": [
    {
     "ename": "ValueError",
     "evalue": "invalid literal for int() with base 10: 'abc'",
     "output_type": "error",
     "traceback": [
      "\u001b[1;31m---------------------------------------------------------------------------\u001b[0m",
      "\u001b[1;31mValueError\u001b[0m                                Traceback (most recent call last)",
      "\u001b[1;32m<ipython-input-6-b78334e492fb>\u001b[0m in \u001b[0;36m<module>\u001b[1;34m\u001b[0m\n\u001b[1;32m----> 1\u001b[1;33m \u001b[0mb\u001b[0m\u001b[1;33m=\u001b[0m \u001b[0mint\u001b[0m\u001b[1;33m(\u001b[0m\u001b[1;34m\"abc\"\u001b[0m\u001b[1;33m)\u001b[0m\u001b[1;33m\u001b[0m\u001b[1;33m\u001b[0m\u001b[0m\n\u001b[0m",
      "\u001b[1;31mValueError\u001b[0m: invalid literal for int() with base 10: 'abc'"
     ]
    }
   ],
   "source": [
    "b= int(\"abc\")"
   ]
  },
  {
   "cell_type": "markdown",
   "metadata": {},
   "source": [
    "However, this is not inherently impossible to do, certain workaround \n",
    "in 'base', a second parameter in the integer function, can allow us ton \n",
    "mention a different base and it is tehnically possible to convert string \n",
    "to a int that way "
   ]
  },
  {
   "cell_type": "code",
   "execution_count": 9,
   "metadata": {},
   "outputs": [
    {
     "name": "stdout",
     "output_type": "stream",
     "text": [
      "41270\n"
     ]
    }
   ],
   "source": [
    "a= int('a136', base=16)\n",
    "print(a)"
   ]
  },
  {
   "cell_type": "markdown",
   "metadata": {},
   "source": [
    "a 16 bit integer encompasses the hex directives, and is aptly able \n",
    "to recognise a position occupied by the above string"
   ]
  },
  {
   "cell_type": "markdown",
   "metadata": {},
   "source": [
    "for instance, 10 in hexadecimal numeral system would be represented as \n",
    "'0xa' however it is represented as 'ob1010' in binary representation"
   ]
  },
  {
   "cell_type": "code",
   "execution_count": 16,
   "metadata": {},
   "outputs": [
    {
     "data": {
      "text/plain": [
       "'0b1010'"
      ]
     },
     "execution_count": 16,
     "metadata": {},
     "output_type": "execute_result"
    }
   ],
   "source": [
    "bin(10)"
   ]
  },
  {
   "cell_type": "code",
   "execution_count": 22,
   "metadata": {},
   "outputs": [
    {
     "data": {
      "text/plain": [
       "10"
      ]
     },
     "execution_count": 22,
     "metadata": {},
     "output_type": "execute_result"
    }
   ],
   "source": [
    "int('0b1010', base=2) "
   ]
  },
  {
   "cell_type": "markdown",
   "metadata": {},
   "source": [
    "we converted a base-2 binary number 0b1010 into a base 8 integer 10 "
   ]
  },
  {
   "cell_type": "markdown",
   "metadata": {},
   "source": [
    "similarly, we can use such prefixes to assign base n value to a variable without \n",
    "resorting to int function with custom base parameter (allowed upto max 32)"
   ]
  },
  {
   "cell_type": "markdown",
   "metadata": {},
   "source": [
    "these prefixes are <br>\n",
    "bin() -> '0bxxxx' number of x's replaced by actual base 2 representaion <br>\n",
    "oct() -> '0oxx' number of x's replaced by actual base 8 representaion <br>\n",
    "hex() -> '0xa' number of a's replaced by actual base 16 representaion <br>"
   ]
  },
  {
   "cell_type": "code",
   "execution_count": 23,
   "metadata": {},
   "outputs": [],
   "source": [
    "a= 0x15F"
   ]
  },
  {
   "cell_type": "code",
   "execution_count": 24,
   "metadata": {},
   "outputs": [
    {
     "name": "stdout",
     "output_type": "stream",
     "text": [
      "351\n"
     ]
    }
   ],
   "source": [
    "print(a)"
   ]
  },
  {
   "cell_type": "code",
   "execution_count": 25,
   "metadata": {},
   "outputs": [],
   "source": [
    "b= 0b11001001111"
   ]
  },
  {
   "cell_type": "code",
   "execution_count": 26,
   "metadata": {},
   "outputs": [
    {
     "name": "stdout",
     "output_type": "stream",
     "text": [
      "1615\n"
     ]
    }
   ],
   "source": [
    "print(b)"
   ]
  },
  {
   "cell_type": "code",
   "execution_count": 27,
   "metadata": {},
   "outputs": [],
   "source": [
    "a= 0o33477"
   ]
  },
  {
   "cell_type": "code",
   "execution_count": 28,
   "metadata": {},
   "outputs": [
    {
     "name": "stdout",
     "output_type": "stream",
     "text": [
      "14143\n"
     ]
    }
   ],
   "source": [
    "print(a)"
   ]
  },
  {
   "cell_type": "markdown",
   "metadata": {},
   "source": [
    "however, python does not work with bases bigger than 32, \n",
    "infact "
   ]
  },
  {
   "cell_type": "code",
   "execution_count": 32,
   "metadata": {},
   "outputs": [
    {
     "ename": "ValueError",
     "evalue": "int() base must be >= 2 and <= 36, or 0",
     "output_type": "error",
     "traceback": [
      "\u001b[1;31m---------------------------------------------------------------------------\u001b[0m",
      "\u001b[1;31mValueError\u001b[0m                                Traceback (most recent call last)",
      "\u001b[1;32m<ipython-input-32-ab2f9062fc50>\u001b[0m in \u001b[0;36m<module>\u001b[1;34m\u001b[0m\n\u001b[1;32m----> 1\u001b[1;33m \u001b[0mint\u001b[0m\u001b[1;33m(\u001b[0m\u001b[1;34m'10.3345'\u001b[0m\u001b[1;33m,\u001b[0m \u001b[0mbase\u001b[0m\u001b[1;33m=\u001b[0m\u001b[1;36m64\u001b[0m\u001b[1;33m)\u001b[0m\u001b[1;33m\u001b[0m\u001b[1;33m\u001b[0m\u001b[0m\n\u001b[0m",
      "\u001b[1;31mValueError\u001b[0m: int() base must be >= 2 and <= 36, or 0"
     ]
    }
   ],
   "source": [
    "int('10.3345', base=64)"
   ]
  },
  {
   "cell_type": "markdown",
   "metadata": {},
   "source": [
    "To do so, we need to either import libraries or do it ourselves"
   ]
  },
  {
   "cell_type": "markdown",
   "metadata": {},
   "source": [
    "<h4>Conversion to any nth base </h4>"
   ]
  },
  {
   "cell_type": "markdown",
   "metadata": {},
   "source": [
    "if n: number (base 10)\n",
    "    b: base(target base)\n",
    "    <br>\n",
    "    <br>\n",
    "   \n",
    "    ? ? ? ? ? ? ? ?\n",
    "    _ _ _ _ _ _ _ _\n",
    "    7 6 5 4 3 2 1 0\n",
    "    b b b b b b b b\n",
    "   \n",
    "   n= b*(n//b)+ n%b\n",
    "   -> n= (n//b)*b+ n%b"
   ]
  },
  {
   "cell_type": "markdown",
   "metadata": {},
   "source": [
    "for instance lets convert 789 for base 7 \n",
    "n= 789 b= 17<br>\n",
    " _ _ _ _<br>\n",
    " 3 2 1 0<br>\n",
    " 7 7 7 7<br>\n",
    " <br>\n",
    " so 7^1= 7 <br>\n",
    " 7^3= 343, 7^4= 2401<br>\n",
    " 7^2= 49 <br>\n",
    "->>>>>>>>>>>>>>>>>>>>>>>><br>       <br>  343+49+7+1= 400 <br>\n",
    "789-400= 389 thus we need 389 more than current 7^3+7^2+7^1 achievable by current <br>\n",
    "single tokens in each of 7's nth power places (from 3->0 in that order)<br>\n",
    "we know 7^3= 343 solves such that 2*(7^3)<br>\n",
    "400+343= 743 <-> 789-743= 46 -> therefore 6 of 7^1, and 4*(7^0) more<br>\n",
    "therefore, the total token in each 7's nth power to make 789 us <br>\n",
    "<br><br>\n",
    "2*(7^3)+6*(7^1)+ 4(7^0)<br>\n",
    "<br><br>\n",
    "therefore on the tokens 7^nth base we have<br> \n",
    "<br>\n",
    "_ _ _ _ _ <br>\n",
    "7 7 7 7 7 <br>\n",
    "4 3 2 1 0 <br>\n",
    "<br>\n",
    "t o k e n <br>\n",
    "0 2 0 6 4 <br>\n",
    "<br>\n",
    "therefore, the representation of 789 in base 7 is 2064<br>"
   ]
  },
  {
   "cell_type": "code",
   "execution_count": 38,
   "metadata": {},
   "outputs": [
    {
     "ename": "ValueError",
     "evalue": "invalid literal for int() with base 7: '789'",
     "output_type": "error",
     "traceback": [
      "\u001b[1;31m---------------------------------------------------------------------------\u001b[0m",
      "\u001b[1;31mValueError\u001b[0m                                Traceback (most recent call last)",
      "\u001b[1;32m<ipython-input-38-ff916bf0e2b2>\u001b[0m in \u001b[0;36m<module>\u001b[1;34m\u001b[0m\n\u001b[1;32m----> 1\u001b[1;33m \u001b[0mint\u001b[0m\u001b[1;33m(\u001b[0m\u001b[1;34m'789'\u001b[0m\u001b[1;33m,\u001b[0m \u001b[0mbase\u001b[0m\u001b[1;33m=\u001b[0m\u001b[1;36m7\u001b[0m\u001b[1;33m)\u001b[0m\u001b[1;33m\u001b[0m\u001b[1;33m\u001b[0m\u001b[0m\n\u001b[0m",
      "\u001b[1;31mValueError\u001b[0m: invalid literal for int() with base 7: '789'"
     ]
    }
   ],
   "source": [
    "int('789', base=7)"
   ]
  },
  {
   "cell_type": "code",
   "execution_count": 36,
   "metadata": {},
   "outputs": [
    {
     "data": {
      "text/plain": [
       "7"
      ]
     },
     "execution_count": 36,
     "metadata": {},
     "output_type": "execute_result"
    }
   ],
   "source": [
    "789//17\n",
    "789%17"
   ]
  },
  {
   "cell_type": "markdown",
   "metadata": {},
   "source": [
    "with the equation above, we can simplifiy this process much more \n",
    "789= 17*(789//17)+ 789 % 17  =  46*17+7\n",
    "= [46 x 17^1]+ [7 x 17^0]\n"
   ]
  }
 ],
 "metadata": {
  "kernelspec": {
   "display_name": "Python 3",
   "language": "python",
   "name": "python3"
  },
  "language_info": {
   "codemirror_mode": {
    "name": "ipython",
    "version": 3
   },
   "file_extension": ".py",
   "mimetype": "text/x-python",
   "name": "python",
   "nbconvert_exporter": "python",
   "pygments_lexer": "ipython3",
   "version": "3.8.3"
  }
 },
 "nbformat": 4,
 "nbformat_minor": 4
}

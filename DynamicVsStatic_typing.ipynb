{
 "cells": [
  {
   "cell_type": "markdown",
   "metadata": {},
   "source": [
    "Dynamic Vs. Static typing"
   ]
  },
  {
   "cell_type": "markdown",
   "metadata": {},
   "source": [
    "In a statically typed language like java, the type declaration is in order to store a data \n",
    "so for instance in the code \n",
    "\n",
    "<h4> String my_var= 'hello';</h4>\n",
    "hence the \n",
    "the memory block <table col=1, row=1><tr><td><h3>mem1</h3></td> </tr></table>\n",
    "actually stores a reference to the object type (in this case 'String') instead of \n",
    "it being bounded by my_var. In simpler terms, it is the association of String to Mem_address\n",
    "that precedes that of a an object itself referring to the memory address\n",
    "<br>\n",
    "<br>\n",
    "<br>\n",
    "<table col=1, row=1><tr><td><h3>String</h3></td> </tr></table> <table col=1, row=1><tr><td><h3>mem1 address</h3></td> </tr></table>|_____^\n",
    "\n",
    "instead of\n",
    "<br></br>\n",
    "<br></br>\n",
    "<br></br>\n",
    "<table col=1, row=1><tr><td><h3>my_var  </h3></td> </tr></table>  <table col=1, row=1><tr><td><h3>mem1 address</h3></td> </tr></table>|_____^"
   ]
  },
  {
   "cell_type": "markdown",
   "metadata": {},
   "source": [
    "In practice, what this translates to is the fact that objects in python do not have a type of their own \n",
    "<i> when instructed to return the type of a variable, python will simply lookup the memory address description of its type.\n",
    "<h4> when a said variable is redeclared to another value, python will actively reallocate another address with requested type and decrease the counter to earlier referenced memory location by 1."
   ]
  },
  {
   "cell_type": "code",
   "execution_count": 3,
   "metadata": {},
   "outputs": [
    {
     "name": "stdout",
     "output_type": "stream",
     "text": [
      "The address of a 140704014612544, the address of b 140704014612544\n"
     ]
    }
   ],
   "source": [
    "a= 10\n",
    "b=10\n",
    "print(\"The address of a {0}, the address of b {1}\".format(id(a), id(b)))"
   ]
  },
  {
   "cell_type": "code",
   "execution_count": 6,
   "metadata": {},
   "outputs": [
    {
     "name": "stdout",
     "output_type": "stream",
     "text": [
      "2230006311984\n",
      "2\n"
     ]
    }
   ],
   "source": [
    "a= 'hello'\n",
    "print(id(a))\n",
    "import sys \n",
    "print(sys.getrefcount(a))"
   ]
  },
  {
   "cell_type": "code",
   "execution_count": 16,
   "metadata": {},
   "outputs": [
    {
     "data": {
      "text/plain": [
       "'0x2ce'"
      ]
     },
     "execution_count": 16,
     "metadata": {},
     "output_type": "execute_result"
    }
   ],
   "source": [
    "import ctypes\n",
    "hex(ctypes.c_long.from_address((id(b))).value)"
   ]
  },
  {
   "cell_type": "code",
   "execution_count": null,
   "metadata": {},
   "outputs": [],
   "source": []
  }
 ],
 "metadata": {
  "kernelspec": {
   "display_name": "Python 3",
   "language": "python",
   "name": "python3"
  },
  "language_info": {
   "codemirror_mode": {
    "name": "ipython",
    "version": 3
   },
   "file_extension": ".py",
   "mimetype": "text/x-python",
   "name": "python",
   "nbconvert_exporter": "python",
   "pygments_lexer": "ipython3",
   "version": "3.8.3"
  }
 },
 "nbformat": 4,
 "nbformat_minor": 4
}
